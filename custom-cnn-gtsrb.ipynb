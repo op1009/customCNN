{
 "cells": [
  {
   "cell_type": "markdown",
   "metadata": {},
   "source": [
    "# Custom CNN for GTSRB Traffic Sign Detection"
   ]
  },
  {
   "cell_type": "markdown",
   "metadata": {},
   "source": [
    "### Install Libraries"
   ]
  },
  {
   "cell_type": "code",
   "execution_count": null,
   "metadata": {},
   "outputs": [],
   "source": [
    "pip install pillow tqdm pandas torch torchvision matplotlib scikit-learn torchsummary"
   ]
  },
  {
   "cell_type": "markdown",
   "metadata": {},
   "source": [
    "### Download and prepare all dataset"
   ]
  },
  {
   "cell_type": "code",
   "execution_count": 1,
   "metadata": {
    "_cell_guid": "b1076dfc-b9ad-4769-8c92-a6c4dae69d19",
    "_uuid": "8f2839f25d086af736a60e9eeb907d3b93b6e0e5"
   },
   "outputs": [
    {
     "name": "stdout",
     "output_type": "stream",
     "text": [
      "--2024-05-14 12:10:23--  https://sid.erda.dk/public/archives/daaeac0d7ce1152aea9b61d9f1e19370/GTSRB_Final_Training_Images.zip\n",
      "Resolving sid.erda.dk (sid.erda.dk)... 130.225.104.13\n",
      "Connecting to sid.erda.dk (sid.erda.dk)|130.225.104.13|:443... connected.\n",
      "HTTP request sent, awaiting response... 200 OK\n",
      "Length: 276294756 (263M) [application/zip]\n",
      "Saving to: ‘GTSRB_Final_Training_Images.zip’\n",
      "\n",
      "GTSRB_Final_Trainin 100%[===================>] 263.50M   904KB/s    in 5m 6s   \n",
      "\n",
      "2024-05-14 12:15:30 (882 KB/s) - ‘GTSRB_Final_Training_Images.zip’ saved [276294756/276294756]\n",
      "\n"
     ]
    },
    {
     "name": "stderr",
     "output_type": "stream",
     "text": [
      "100%|█████████████████████████████████████████████████| 39209/39209 [00:21<00:00, 1824.29it/s]\n",
      "100%|████████████████████████████████████████████████| 39209/39209 [00:00<00:00, 77279.42it/s]"
     ]
    },
    {
     "name": "stdout",
     "output_type": "stream",
     "text": [
      "Done\r\n"
     ]
    },
    {
     "name": "stderr",
     "output_type": "stream",
     "text": [
      "\n"
     ]
    },
    {
     "name": "stdout",
     "output_type": "stream",
     "text": [
      "--2024-05-14 12:15:57--  https://sid.erda.dk/public/archives/daaeac0d7ce1152aea9b61d9f1e19370/GTSRB_Final_Test_Images.zip\n",
      "Resolving sid.erda.dk (sid.erda.dk)... 130.225.104.13\n",
      "Connecting to sid.erda.dk (sid.erda.dk)|130.225.104.13|:443... connected.\n",
      "HTTP request sent, awaiting response... 200 OK\n",
      "Length: 88978620 (85M) [application/zip]\n",
      "Saving to: ‘GTSRB_Final_Test_Images.zip’\n",
      "\n",
      "GTSRB_Final_Test_Im 100%[===================>]  84.86M  1.02MB/s    in 85s     \n",
      "\n",
      "2024-05-14 12:17:22 (1020 KB/s) - ‘GTSRB_Final_Test_Images.zip’ saved [88978620/88978620]\n",
      "\n"
     ]
    },
    {
     "name": "stderr",
     "output_type": "stream",
     "text": [
      "100%|█████████████████████████████████████████████████| 12630/12630 [00:07<00:00, 1791.10it/s]\n",
      "100%|████████████████████████████████████████████████| 12630/12630 [00:00<00:00, 92779.71it/s]"
     ]
    },
    {
     "name": "stdout",
     "output_type": "stream",
     "text": [
      "Done\r\n"
     ]
    },
    {
     "name": "stderr",
     "output_type": "stream",
     "text": [
      "\n"
     ]
    },
    {
     "name": "stdout",
     "output_type": "stream",
     "text": [
      "--2024-05-14 12:17:31--  https://sid.erda.dk/public/archives/daaeac0d7ce1152aea9b61d9f1e19370/GTSRB_Final_Test_GT.zip\n",
      "Resolving sid.erda.dk (sid.erda.dk)... 130.225.104.13\n",
      "Connecting to sid.erda.dk (sid.erda.dk)|130.225.104.13|:443... connected.\n",
      "HTTP request sent, awaiting response... 200 OK\n",
      "Length: 99620 (97K) [application/zip]\n",
      "Saving to: ‘GTSRB_Final_Test_GT.zip’\n",
      "\n",
      "GTSRB_Final_Test_GT 100%[===================>]  97.29K   282KB/s    in 0.3s    \n",
      "\n",
      "2024-05-14 12:17:32 (282 KB/s) - ‘GTSRB_Final_Test_GT.zip’ saved [99620/99620]\n",
      "\n",
      "Done\n"
     ]
    }
   ],
   "source": [
    "#### Download `GTSRB_Final_Training_Images` Dataset and Unzip\n",
    "\n",
    "!wget https://sid.erda.dk/public/archives/daaeac0d7ce1152aea9b61d9f1e19370/GTSRB_Final_Training_Images.zip\n",
    "!unzip -q -o GTSRB_Final_Training_Images.zip -d data/\n",
    "\n",
    "#### Change images to `png`\n",
    "\n",
    "from PIL import Image\n",
    "import glob\n",
    "import os\n",
    "from tqdm import tqdm\n",
    "\n",
    "for img in tqdm(glob.glob(\"data/GTSRB/Final_Training/Images/*/*.ppm\")):\n",
    "    im = Image.open(img)\n",
    "    fname = img.strip(\".ppm\") + \".png\"\n",
    "    im.save(fname)\n",
    "\n",
    "#### Remove .ppm files\n",
    "\n",
    "for img in tqdm(glob.glob(\"data/GTSRB/Final_Training/Images/*/*.ppm\")):\n",
    "    os.remove(img)\n",
    "\n",
    "#### Rename filenames in csv file\n",
    "\n",
    "# Using Stream EDitor (sed)\n",
    "# - https://www.cyberciti.biz/faq/how-to-use-sed-to-find-and-replace-text-in-files-in-linux-unix-shell/\n",
    "\n",
    "!sed -i 's/\\.ppm/.png/g' data/GTSRB/Final_Training/Images/*/*.csv | echo Done\n",
    "\n",
    "## Test\n",
    "# ---\n",
    "\n",
    "#### Download `GTSRB_Final_Test_Images` Dataset and Unzip\n",
    "\n",
    "!wget https://sid.erda.dk/public/archives/daaeac0d7ce1152aea9b61d9f1e19370/GTSRB_Final_Test_Images.zip\n",
    "!unzip -q -o GTSRB_Final_Test_Images.zip -d data/\n",
    "\n",
    "#### Change images to `png`\n",
    "\n",
    "for img in tqdm(glob.glob(\"data/GTSRB/Final_Test/Images/*.ppm\")):\n",
    "    im = Image.open(img)\n",
    "    fname = img.strip(\".ppm\") + \".png\"\n",
    "    im.save(fname)\n",
    "\n",
    "#### Remove .ppm files\n",
    "\n",
    "for img in tqdm(glob.glob(\"data/GTSRB/Final_Test/Images/*.ppm\")):\n",
    "    os.remove(img)\n",
    "\n",
    "#### Rename filenames in csv file\n",
    "\n",
    "# Using Stream EDitor (sed)\n",
    "# - https://www.cyberciti.biz/faq/how-to-use-sed-to-find-and-replace-text-in-files-in-linux-unix-shell/\n",
    "\n",
    "!sed -i 's/\\.ppm/.png/g' data/GTSRB/Final_Test/Images/*.csv | echo Done\n",
    "\n",
    "## Test Ground Truth\n",
    "# ---\n",
    "# only required if we need to test predictions with their ground truth\n",
    "\n",
    "#### Download `GTSRB_Final_Test_GT` Dataset and Unzip\n",
    "\n",
    "!wget https://sid.erda.dk/public/archives/daaeac0d7ce1152aea9b61d9f1e19370/GTSRB_Final_Test_GT.zip\n",
    "!unzip -q -o GTSRB_Final_Test_GT.zip -d data/GTSRB/Final_Test/\n",
    "\n",
    "#### Rename filenames in csv file\n",
    "\n",
    "!sed -i 's/\\.ppm/.png/g' data/GTSRB/Final_Test/*.csv | echo Done"
   ]
  },
  {
   "cell_type": "markdown",
   "metadata": {},
   "source": [
    "### Reading CSV files"
   ]
  },
  {
   "cell_type": "code",
   "execution_count": 2,
   "metadata": {},
   "outputs": [
    {
     "data": {
      "text/html": [
       "<div>\n",
       "<style scoped>\n",
       "    .dataframe tbody tr th:only-of-type {\n",
       "        vertical-align: middle;\n",
       "    }\n",
       "\n",
       "    .dataframe tbody tr th {\n",
       "        vertical-align: top;\n",
       "    }\n",
       "\n",
       "    .dataframe thead th {\n",
       "        text-align: right;\n",
       "    }\n",
       "</style>\n",
       "<table border=\"1\" class=\"dataframe\">\n",
       "  <thead>\n",
       "    <tr style=\"text-align: right;\">\n",
       "      <th></th>\n",
       "      <th>Filename</th>\n",
       "      <th>Width</th>\n",
       "      <th>Height</th>\n",
       "      <th>Roi.X1</th>\n",
       "      <th>Roi.Y1</th>\n",
       "      <th>Roi.X2</th>\n",
       "      <th>Roi.Y2</th>\n",
       "      <th>ClassId</th>\n",
       "    </tr>\n",
       "  </thead>\n",
       "  <tbody>\n",
       "    <tr>\n",
       "      <th>0</th>\n",
       "      <td>00042/00000_00000.png</td>\n",
       "      <td>27</td>\n",
       "      <td>28</td>\n",
       "      <td>5</td>\n",
       "      <td>6</td>\n",
       "      <td>22</td>\n",
       "      <td>23</td>\n",
       "      <td>42</td>\n",
       "    </tr>\n",
       "    <tr>\n",
       "      <th>1</th>\n",
       "      <td>00042/00000_00001.png</td>\n",
       "      <td>29</td>\n",
       "      <td>27</td>\n",
       "      <td>6</td>\n",
       "      <td>5</td>\n",
       "      <td>23</td>\n",
       "      <td>22</td>\n",
       "      <td>42</td>\n",
       "    </tr>\n",
       "    <tr>\n",
       "      <th>2</th>\n",
       "      <td>00042/00000_00002.png</td>\n",
       "      <td>29</td>\n",
       "      <td>29</td>\n",
       "      <td>6</td>\n",
       "      <td>6</td>\n",
       "      <td>24</td>\n",
       "      <td>24</td>\n",
       "      <td>42</td>\n",
       "    </tr>\n",
       "    <tr>\n",
       "      <th>3</th>\n",
       "      <td>00042/00000_00003.png</td>\n",
       "      <td>28</td>\n",
       "      <td>29</td>\n",
       "      <td>5</td>\n",
       "      <td>6</td>\n",
       "      <td>23</td>\n",
       "      <td>24</td>\n",
       "      <td>42</td>\n",
       "    </tr>\n",
       "    <tr>\n",
       "      <th>4</th>\n",
       "      <td>00042/00000_00004.png</td>\n",
       "      <td>31</td>\n",
       "      <td>29</td>\n",
       "      <td>5</td>\n",
       "      <td>5</td>\n",
       "      <td>25</td>\n",
       "      <td>24</td>\n",
       "      <td>42</td>\n",
       "    </tr>\n",
       "  </tbody>\n",
       "</table>\n",
       "</div>"
      ],
      "text/plain": [
       "                Filename  Width  Height  Roi.X1  Roi.Y1  Roi.X2  Roi.Y2  \\\n",
       "0  00042/00000_00000.png     27      28       5       6      22      23   \n",
       "1  00042/00000_00001.png     29      27       6       5      23      22   \n",
       "2  00042/00000_00002.png     29      29       6       6      24      24   \n",
       "3  00042/00000_00003.png     28      29       5       6      23      24   \n",
       "4  00042/00000_00004.png     31      29       5       5      25      24   \n",
       "\n",
       "   ClassId  \n",
       "0       42  \n",
       "1       42  \n",
       "2       42  \n",
       "3       42  \n",
       "4       42  "
      ]
     },
     "execution_count": 2,
     "metadata": {},
     "output_type": "execute_result"
    }
   ],
   "source": [
    "import pandas as pd\n",
    "import glob\n",
    "import os\n",
    "\n",
    "# Path to the directory containing the CSV files\n",
    "path = './data/GTSRB/Final_Training/Images'\n",
    "\n",
    "# Get a list of all CSV files in the directory\n",
    "all_files = glob.glob(path + \"/*/*.csv\")\n",
    "\n",
    "# Create an empty list to store the dataframes\n",
    "flist = []\n",
    "\n",
    "# def read_and_modify_csv(all_files):\n",
    "newdf = pd.DataFrame()\n",
    "for filename in all_files:\n",
    "    parent_dir = os.path.basename(os.path.dirname(filename))\n",
    "    # print(parent_dir)\n",
    "    df = pd.read_csv(filename, delimiter=';')\n",
    "\n",
    "    tempdf = df.copy()\n",
    "    # Modify the first column\n",
    "    tempdf.iloc[:, 0] = df.iloc[:, 0].apply(lambda x: f'{parent_dir}/{x}')\n",
    "\n",
    "    newdf = pd.concat([newdf, tempdf])\n",
    "newdf.head()"
   ]
  },
  {
   "cell_type": "code",
   "execution_count": 3,
   "metadata": {},
   "outputs": [],
   "source": [
    "newdf.to_csv(f'{path}/train_annotations.csv', index=False)"
   ]
  },
  {
   "cell_type": "code",
   "execution_count": 4,
   "metadata": {},
   "outputs": [],
   "source": [
    "annot_df = pd.read_csv('./data/GTSRB/Final_Training/Images/train_annotations.csv')"
   ]
  },
  {
   "cell_type": "code",
   "execution_count": 5,
   "metadata": {},
   "outputs": [
    {
     "data": {
      "text/html": [
       "<div>\n",
       "<style scoped>\n",
       "    .dataframe tbody tr th:only-of-type {\n",
       "        vertical-align: middle;\n",
       "    }\n",
       "\n",
       "    .dataframe tbody tr th {\n",
       "        vertical-align: top;\n",
       "    }\n",
       "\n",
       "    .dataframe thead th {\n",
       "        text-align: right;\n",
       "    }\n",
       "</style>\n",
       "<table border=\"1\" class=\"dataframe\">\n",
       "  <thead>\n",
       "    <tr style=\"text-align: right;\">\n",
       "      <th></th>\n",
       "      <th>Filename</th>\n",
       "      <th>Width</th>\n",
       "      <th>Height</th>\n",
       "      <th>Roi.X1</th>\n",
       "      <th>Roi.Y1</th>\n",
       "      <th>Roi.X2</th>\n",
       "      <th>Roi.Y2</th>\n",
       "      <th>ClassId</th>\n",
       "    </tr>\n",
       "  </thead>\n",
       "  <tbody>\n",
       "    <tr>\n",
       "      <th>0</th>\n",
       "      <td>00042/00000_00000.png</td>\n",
       "      <td>27</td>\n",
       "      <td>28</td>\n",
       "      <td>5</td>\n",
       "      <td>6</td>\n",
       "      <td>22</td>\n",
       "      <td>23</td>\n",
       "      <td>42</td>\n",
       "    </tr>\n",
       "    <tr>\n",
       "      <th>1</th>\n",
       "      <td>00042/00000_00001.png</td>\n",
       "      <td>29</td>\n",
       "      <td>27</td>\n",
       "      <td>6</td>\n",
       "      <td>5</td>\n",
       "      <td>23</td>\n",
       "      <td>22</td>\n",
       "      <td>42</td>\n",
       "    </tr>\n",
       "    <tr>\n",
       "      <th>2</th>\n",
       "      <td>00042/00000_00002.png</td>\n",
       "      <td>29</td>\n",
       "      <td>29</td>\n",
       "      <td>6</td>\n",
       "      <td>6</td>\n",
       "      <td>24</td>\n",
       "      <td>24</td>\n",
       "      <td>42</td>\n",
       "    </tr>\n",
       "    <tr>\n",
       "      <th>3</th>\n",
       "      <td>00042/00000_00003.png</td>\n",
       "      <td>28</td>\n",
       "      <td>29</td>\n",
       "      <td>5</td>\n",
       "      <td>6</td>\n",
       "      <td>23</td>\n",
       "      <td>24</td>\n",
       "      <td>42</td>\n",
       "    </tr>\n",
       "    <tr>\n",
       "      <th>4</th>\n",
       "      <td>00042/00000_00004.png</td>\n",
       "      <td>31</td>\n",
       "      <td>29</td>\n",
       "      <td>5</td>\n",
       "      <td>5</td>\n",
       "      <td>25</td>\n",
       "      <td>24</td>\n",
       "      <td>42</td>\n",
       "    </tr>\n",
       "    <tr>\n",
       "      <th>...</th>\n",
       "      <td>...</td>\n",
       "      <td>...</td>\n",
       "      <td>...</td>\n",
       "      <td>...</td>\n",
       "      <td>...</td>\n",
       "      <td>...</td>\n",
       "      <td>...</td>\n",
       "      <td>...</td>\n",
       "    </tr>\n",
       "    <tr>\n",
       "      <th>4997</th>\n",
       "      <td>00009/00037_00017.png</td>\n",
       "      <td>48</td>\n",
       "      <td>49</td>\n",
       "      <td>5</td>\n",
       "      <td>6</td>\n",
       "      <td>43</td>\n",
       "      <td>44</td>\n",
       "      <td>9</td>\n",
       "    </tr>\n",
       "    <tr>\n",
       "      <th>4998</th>\n",
       "      <td>00009/00037_00018.png</td>\n",
       "      <td>52</td>\n",
       "      <td>51</td>\n",
       "      <td>6</td>\n",
       "      <td>6</td>\n",
       "      <td>46</td>\n",
       "      <td>46</td>\n",
       "      <td>9</td>\n",
       "    </tr>\n",
       "    <tr>\n",
       "      <th>4999</th>\n",
       "      <td>00009/00037_00019.png</td>\n",
       "      <td>55</td>\n",
       "      <td>53</td>\n",
       "      <td>6</td>\n",
       "      <td>5</td>\n",
       "      <td>49</td>\n",
       "      <td>48</td>\n",
       "      <td>9</td>\n",
       "    </tr>\n",
       "    <tr>\n",
       "      <th>5000</th>\n",
       "      <td>00009/00037_00020.png</td>\n",
       "      <td>58</td>\n",
       "      <td>58</td>\n",
       "      <td>5</td>\n",
       "      <td>5</td>\n",
       "      <td>53</td>\n",
       "      <td>53</td>\n",
       "      <td>9</td>\n",
       "    </tr>\n",
       "    <tr>\n",
       "      <th>5001</th>\n",
       "      <td>00009/00037_00021.png</td>\n",
       "      <td>61</td>\n",
       "      <td>61</td>\n",
       "      <td>5</td>\n",
       "      <td>5</td>\n",
       "      <td>56</td>\n",
       "      <td>56</td>\n",
       "      <td>9</td>\n",
       "    </tr>\n",
       "  </tbody>\n",
       "</table>\n",
       "<p>5002 rows × 8 columns</p>\n",
       "</div>"
      ],
      "text/plain": [
       "                   Filename  Width  Height  Roi.X1  Roi.Y1  Roi.X2  Roi.Y2  \\\n",
       "0     00042/00000_00000.png     27      28       5       6      22      23   \n",
       "1     00042/00000_00001.png     29      27       6       5      23      22   \n",
       "2     00042/00000_00002.png     29      29       6       6      24      24   \n",
       "3     00042/00000_00003.png     28      29       5       6      23      24   \n",
       "4     00042/00000_00004.png     31      29       5       5      25      24   \n",
       "...                     ...    ...     ...     ...     ...     ...     ...   \n",
       "4997  00009/00037_00017.png     48      49       5       6      43      44   \n",
       "4998  00009/00037_00018.png     52      51       6       6      46      46   \n",
       "4999  00009/00037_00019.png     55      53       6       5      49      48   \n",
       "5000  00009/00037_00020.png     58      58       5       5      53      53   \n",
       "5001  00009/00037_00021.png     61      61       5       5      56      56   \n",
       "\n",
       "      ClassId  \n",
       "0          42  \n",
       "1          42  \n",
       "2          42  \n",
       "3          42  \n",
       "4          42  \n",
       "...       ...  \n",
       "4997        9  \n",
       "4998        9  \n",
       "4999        9  \n",
       "5000        9  \n",
       "5001        9  \n",
       "\n",
       "[5002 rows x 8 columns]"
      ]
     },
     "execution_count": 5,
     "metadata": {},
     "output_type": "execute_result"
    }
   ],
   "source": [
    "annot_df.head(5002)"
   ]
  },
  {
   "cell_type": "code",
   "execution_count": 6,
   "metadata": {},
   "outputs": [],
   "source": [
    "# annot_df['ClassId'].value_counts(sort=True)"
   ]
  },
  {
   "cell_type": "code",
   "execution_count": 7,
   "metadata": {},
   "outputs": [
    {
     "data": {
      "text/html": [
       "<div>\n",
       "<style scoped>\n",
       "    .dataframe tbody tr th:only-of-type {\n",
       "        vertical-align: middle;\n",
       "    }\n",
       "\n",
       "    .dataframe tbody tr th {\n",
       "        vertical-align: top;\n",
       "    }\n",
       "\n",
       "    .dataframe thead th {\n",
       "        text-align: right;\n",
       "    }\n",
       "</style>\n",
       "<table border=\"1\" class=\"dataframe\">\n",
       "  <thead>\n",
       "    <tr style=\"text-align: right;\">\n",
       "      <th></th>\n",
       "      <th>Filename</th>\n",
       "      <th>Width</th>\n",
       "      <th>Height</th>\n",
       "      <th>Roi.X1</th>\n",
       "      <th>Roi.Y1</th>\n",
       "      <th>Roi.X2</th>\n",
       "      <th>Roi.Y2</th>\n",
       "      <th>ClassId</th>\n",
       "    </tr>\n",
       "  </thead>\n",
       "  <tbody>\n",
       "    <tr>\n",
       "      <th>0</th>\n",
       "      <td>00000.png</td>\n",
       "      <td>53</td>\n",
       "      <td>54</td>\n",
       "      <td>6</td>\n",
       "      <td>5</td>\n",
       "      <td>48</td>\n",
       "      <td>49</td>\n",
       "      <td>16</td>\n",
       "    </tr>\n",
       "    <tr>\n",
       "      <th>1</th>\n",
       "      <td>00001.png</td>\n",
       "      <td>42</td>\n",
       "      <td>45</td>\n",
       "      <td>5</td>\n",
       "      <td>5</td>\n",
       "      <td>36</td>\n",
       "      <td>40</td>\n",
       "      <td>1</td>\n",
       "    </tr>\n",
       "    <tr>\n",
       "      <th>2</th>\n",
       "      <td>00002.png</td>\n",
       "      <td>48</td>\n",
       "      <td>52</td>\n",
       "      <td>6</td>\n",
       "      <td>6</td>\n",
       "      <td>43</td>\n",
       "      <td>47</td>\n",
       "      <td>38</td>\n",
       "    </tr>\n",
       "    <tr>\n",
       "      <th>3</th>\n",
       "      <td>00003.png</td>\n",
       "      <td>27</td>\n",
       "      <td>29</td>\n",
       "      <td>5</td>\n",
       "      <td>5</td>\n",
       "      <td>22</td>\n",
       "      <td>24</td>\n",
       "      <td>33</td>\n",
       "    </tr>\n",
       "    <tr>\n",
       "      <th>4</th>\n",
       "      <td>00004.png</td>\n",
       "      <td>60</td>\n",
       "      <td>57</td>\n",
       "      <td>5</td>\n",
       "      <td>5</td>\n",
       "      <td>55</td>\n",
       "      <td>52</td>\n",
       "      <td>11</td>\n",
       "    </tr>\n",
       "  </tbody>\n",
       "</table>\n",
       "</div>"
      ],
      "text/plain": [
       "    Filename  Width  Height  Roi.X1  Roi.Y1  Roi.X2  Roi.Y2  ClassId\n",
       "0  00000.png     53      54       6       5      48      49       16\n",
       "1  00001.png     42      45       5       5      36      40        1\n",
       "2  00002.png     48      52       6       6      43      47       38\n",
       "3  00003.png     27      29       5       5      22      24       33\n",
       "4  00004.png     60      57       5       5      55      52       11"
      ]
     },
     "execution_count": 7,
     "metadata": {},
     "output_type": "execute_result"
    }
   ],
   "source": [
    "test_annotations = './data/GTSRB/Final_Test/GT-final_test.csv'\n",
    "\n",
    "test_df = pd.read_csv(test_annotations, delimiter=';')\n",
    "test_df.head()"
   ]
  },
  {
   "cell_type": "code",
   "execution_count": 8,
   "metadata": {},
   "outputs": [
    {
     "data": {
      "text/html": [
       "<div>\n",
       "<style scoped>\n",
       "    .dataframe tbody tr th:only-of-type {\n",
       "        vertical-align: middle;\n",
       "    }\n",
       "\n",
       "    .dataframe tbody tr th {\n",
       "        vertical-align: top;\n",
       "    }\n",
       "\n",
       "    .dataframe thead th {\n",
       "        text-align: right;\n",
       "    }\n",
       "</style>\n",
       "<table border=\"1\" class=\"dataframe\">\n",
       "  <thead>\n",
       "    <tr style=\"text-align: right;\">\n",
       "      <th></th>\n",
       "      <th>Width</th>\n",
       "      <th>Height</th>\n",
       "      <th>Roi.X1</th>\n",
       "      <th>Roi.Y1</th>\n",
       "      <th>Roi.X2</th>\n",
       "      <th>Roi.Y2</th>\n",
       "      <th>ClassId</th>\n",
       "    </tr>\n",
       "  </thead>\n",
       "  <tbody>\n",
       "    <tr>\n",
       "      <th>count</th>\n",
       "      <td>12630.000000</td>\n",
       "      <td>12630.000000</td>\n",
       "      <td>12630.000000</td>\n",
       "      <td>12630.000000</td>\n",
       "      <td>12630.000000</td>\n",
       "      <td>12630.000000</td>\n",
       "      <td>12630.000000</td>\n",
       "    </tr>\n",
       "    <tr>\n",
       "      <th>mean</th>\n",
       "      <td>50.507759</td>\n",
       "      <td>50.364450</td>\n",
       "      <td>5.998021</td>\n",
       "      <td>5.982423</td>\n",
       "      <td>44.864450</td>\n",
       "      <td>44.758116</td>\n",
       "      <td>15.551069</td>\n",
       "    </tr>\n",
       "    <tr>\n",
       "      <th>std</th>\n",
       "      <td>25.088483</td>\n",
       "      <td>23.698908</td>\n",
       "      <td>1.543954</td>\n",
       "      <td>1.427424</td>\n",
       "      <td>23.776102</td>\n",
       "      <td>22.494697</td>\n",
       "      <td>11.947123</td>\n",
       "    </tr>\n",
       "    <tr>\n",
       "      <th>min</th>\n",
       "      <td>25.000000</td>\n",
       "      <td>25.000000</td>\n",
       "      <td>1.000000</td>\n",
       "      <td>5.000000</td>\n",
       "      <td>20.000000</td>\n",
       "      <td>20.000000</td>\n",
       "      <td>0.000000</td>\n",
       "    </tr>\n",
       "    <tr>\n",
       "      <th>25%</th>\n",
       "      <td>34.000000</td>\n",
       "      <td>35.000000</td>\n",
       "      <td>5.000000</td>\n",
       "      <td>5.000000</td>\n",
       "      <td>29.000000</td>\n",
       "      <td>29.000000</td>\n",
       "      <td>5.000000</td>\n",
       "    </tr>\n",
       "    <tr>\n",
       "      <th>50%</th>\n",
       "      <td>43.000000</td>\n",
       "      <td>43.000000</td>\n",
       "      <td>6.000000</td>\n",
       "      <td>6.000000</td>\n",
       "      <td>38.000000</td>\n",
       "      <td>38.000000</td>\n",
       "      <td>12.000000</td>\n",
       "    </tr>\n",
       "    <tr>\n",
       "      <th>75%</th>\n",
       "      <td>58.000000</td>\n",
       "      <td>57.000000</td>\n",
       "      <td>6.000000</td>\n",
       "      <td>6.000000</td>\n",
       "      <td>53.000000</td>\n",
       "      <td>52.000000</td>\n",
       "      <td>25.000000</td>\n",
       "    </tr>\n",
       "    <tr>\n",
       "      <th>max</th>\n",
       "      <td>266.000000</td>\n",
       "      <td>232.000000</td>\n",
       "      <td>23.000000</td>\n",
       "      <td>19.000000</td>\n",
       "      <td>244.000000</td>\n",
       "      <td>212.000000</td>\n",
       "      <td>42.000000</td>\n",
       "    </tr>\n",
       "  </tbody>\n",
       "</table>\n",
       "</div>"
      ],
      "text/plain": [
       "              Width        Height        Roi.X1        Roi.Y1        Roi.X2  \\\n",
       "count  12630.000000  12630.000000  12630.000000  12630.000000  12630.000000   \n",
       "mean      50.507759     50.364450      5.998021      5.982423     44.864450   \n",
       "std       25.088483     23.698908      1.543954      1.427424     23.776102   \n",
       "min       25.000000     25.000000      1.000000      5.000000     20.000000   \n",
       "25%       34.000000     35.000000      5.000000      5.000000     29.000000   \n",
       "50%       43.000000     43.000000      6.000000      6.000000     38.000000   \n",
       "75%       58.000000     57.000000      6.000000      6.000000     53.000000   \n",
       "max      266.000000    232.000000     23.000000     19.000000    244.000000   \n",
       "\n",
       "             Roi.Y2       ClassId  \n",
       "count  12630.000000  12630.000000  \n",
       "mean      44.758116     15.551069  \n",
       "std       22.494697     11.947123  \n",
       "min       20.000000      0.000000  \n",
       "25%       29.000000      5.000000  \n",
       "50%       38.000000     12.000000  \n",
       "75%       52.000000     25.000000  \n",
       "max      212.000000     42.000000  "
      ]
     },
     "execution_count": 8,
     "metadata": {},
     "output_type": "execute_result"
    }
   ],
   "source": [
    "test_df.describe()"
   ]
  },
  {
   "cell_type": "code",
   "execution_count": 9,
   "metadata": {},
   "outputs": [],
   "source": [
    "# test_df['ClassId'].value_counts(sort=True)"
   ]
  },
  {
   "cell_type": "markdown",
   "metadata": {},
   "source": [
    "#### Import Libraries"
   ]
  },
  {
   "cell_type": "code",
   "execution_count": 2,
   "metadata": {},
   "outputs": [],
   "source": [
    "import numpy as np\n",
    "from PIL import Image\n",
    "import torch\n",
    "from torch import nn, optim\n",
    "import torch.nn.functional as F\n",
    "from torch.utils.data import Dataset, DataLoader\n",
    "from torchvision import datasets\n",
    "import torchvision.transforms as transforms\n",
    "import matplotlib.pyplot as plt\n",
    "from torchvision.io import read_image\n",
    "from sklearn.model_selection import train_test_split\n",
    "from torchsummary import summary"
   ]
  },
  {
   "cell_type": "markdown",
   "metadata": {},
   "source": [
    "### Dataset Processing\n",
    "#### Dataset Class"
   ]
  },
  {
   "cell_type": "code",
   "execution_count": 6,
   "metadata": {},
   "outputs": [],
   "source": [
    "# creating object for our image dataset\n",
    "class GTSRBdataset(Dataset):\n",
    "\n",
    "    def __init__(self, annotations, directory, transform=None):\n",
    "        # directory containing the images\n",
    "        self.directory = directory\n",
    "        # loading the csv with info about images\n",
    "        self.labels = annotations\n",
    "        # transform to be applied on images\n",
    "        self.transform = transform\n",
    "\n",
    "        # Number of images in dataset\n",
    "        self.len = self.labels.shape[0]\n",
    "\n",
    "    # getting the length\n",
    "    def __len__(self):\n",
    "        return len(self.labels)\n",
    "\n",
    "    # getting the data items\n",
    "    def __getitem__(self, idx):\n",
    "        # defining the image path\n",
    "        image_path = os.path.join(self.directory, self.labels.iloc[idx, 0])\n",
    "        \n",
    "#         Filename \tWidth \tHeight \tRoi.X1 \tRoi.Y1 \tRoi.X2 \tRoi.Y2 \tClassId\n",
    "        image = Image.open(image_path)\n",
    "        \n",
    "        # corresponding class labels of the images \n",
    "#         bbox = tuple(self.labels.iloc[idx, [3,4,5,6]])\n",
    "        img_width = self.labels.iloc[idx, 1]\n",
    "        img_height = self.labels.iloc[idx, 2]\n",
    "        x1 = self.labels.iloc[idx, 3]\n",
    "        y1 = self.labels.iloc[idx, 4]\n",
    "        x2 = self.labels.iloc[idx, 5]\n",
    "        y2 = self.labels.iloc[idx, 6]\n",
    "        \n",
    "        x1 = x1/img_width\n",
    "        y1 = y1/img_height\n",
    "        x2 = x2/img_width\n",
    "        y2 = y2/img_height\n",
    "        \n",
    "        bbox = (x1, y1, x2, y2)\n",
    "        classid = self.labels.iloc[idx, 7]\n",
    "\n",
    "        # apply the transform if not set to None\n",
    "        if self.transform:\n",
    "            image = self.transform(image)\n",
    "        \n",
    "        # returning the image and label\n",
    "        return image, torch.tensor(bbox, dtype=torch.float32), torch.tensor(classid)                              ##### added bbox"
   ]
  },
  {
   "cell_type": "markdown",
   "metadata": {},
   "source": [
    "#### Split Dataset"
   ]
  },
  {
   "cell_type": "code",
   "execution_count": 7,
   "metadata": {},
   "outputs": [],
   "source": [
    "train_transform = transforms.Compose([transforms.Resize((32, 32)), transforms.ToTensor()]) \n",
    "\n",
    "train_directory = './data/GTSRB/Final_Training/Images'\n",
    "train_annotations = \"train_annotations.csv\"\n",
    "\n",
    "train_df = pd.read_csv(os.path.join(train_directory, train_annotations))\n",
    "\n",
    "train_df, valid_df = train_test_split(train_df, test_size=0.2, shuffle=True)\n",
    "\n",
    "train_dataset = GTSRBdataset(annotations=train_df,\n",
    "                            directory=train_directory, \n",
    "                            transform = train_transform)\n",
    "\n",
    "valid_dataset = GTSRBdataset(annotations=valid_df,\n",
    "                            directory=train_directory,\n",
    "                            transform = train_transform)\n",
    "\n"
   ]
  },
  {
   "cell_type": "code",
   "execution_count": 8,
   "metadata": {},
   "outputs": [
    {
     "data": {
      "text/html": [
       "<div>\n",
       "<style scoped>\n",
       "    .dataframe tbody tr th:only-of-type {\n",
       "        vertical-align: middle;\n",
       "    }\n",
       "\n",
       "    .dataframe tbody tr th {\n",
       "        vertical-align: top;\n",
       "    }\n",
       "\n",
       "    .dataframe thead th {\n",
       "        text-align: right;\n",
       "    }\n",
       "</style>\n",
       "<table border=\"1\" class=\"dataframe\">\n",
       "  <thead>\n",
       "    <tr style=\"text-align: right;\">\n",
       "      <th></th>\n",
       "      <th>Filename</th>\n",
       "      <th>Width</th>\n",
       "      <th>Height</th>\n",
       "      <th>Roi.X1</th>\n",
       "      <th>Roi.Y1</th>\n",
       "      <th>Roi.X2</th>\n",
       "      <th>Roi.Y2</th>\n",
       "      <th>ClassId</th>\n",
       "    </tr>\n",
       "  </thead>\n",
       "  <tbody>\n",
       "    <tr>\n",
       "      <th>0</th>\n",
       "      <td>00000.png</td>\n",
       "      <td>53</td>\n",
       "      <td>54</td>\n",
       "      <td>6</td>\n",
       "      <td>5</td>\n",
       "      <td>48</td>\n",
       "      <td>49</td>\n",
       "      <td>16</td>\n",
       "    </tr>\n",
       "    <tr>\n",
       "      <th>1</th>\n",
       "      <td>00001.png</td>\n",
       "      <td>42</td>\n",
       "      <td>45</td>\n",
       "      <td>5</td>\n",
       "      <td>5</td>\n",
       "      <td>36</td>\n",
       "      <td>40</td>\n",
       "      <td>1</td>\n",
       "    </tr>\n",
       "    <tr>\n",
       "      <th>2</th>\n",
       "      <td>00002.png</td>\n",
       "      <td>48</td>\n",
       "      <td>52</td>\n",
       "      <td>6</td>\n",
       "      <td>6</td>\n",
       "      <td>43</td>\n",
       "      <td>47</td>\n",
       "      <td>38</td>\n",
       "    </tr>\n",
       "    <tr>\n",
       "      <th>3</th>\n",
       "      <td>00003.png</td>\n",
       "      <td>27</td>\n",
       "      <td>29</td>\n",
       "      <td>5</td>\n",
       "      <td>5</td>\n",
       "      <td>22</td>\n",
       "      <td>24</td>\n",
       "      <td>33</td>\n",
       "    </tr>\n",
       "    <tr>\n",
       "      <th>4</th>\n",
       "      <td>00004.png</td>\n",
       "      <td>60</td>\n",
       "      <td>57</td>\n",
       "      <td>5</td>\n",
       "      <td>5</td>\n",
       "      <td>55</td>\n",
       "      <td>52</td>\n",
       "      <td>11</td>\n",
       "    </tr>\n",
       "  </tbody>\n",
       "</table>\n",
       "</div>"
      ],
      "text/plain": [
       "    Filename  Width  Height  Roi.X1  Roi.Y1  Roi.X2  Roi.Y2  ClassId\n",
       "0  00000.png     53      54       6       5      48      49       16\n",
       "1  00001.png     42      45       5       5      36      40        1\n",
       "2  00002.png     48      52       6       6      43      47       38\n",
       "3  00003.png     27      29       5       5      22      24       33\n",
       "4  00004.png     60      57       5       5      55      52       11"
      ]
     },
     "execution_count": 8,
     "metadata": {},
     "output_type": "execute_result"
    }
   ],
   "source": [
    "test_directory = './data/GTSRB/Final_Test/Images'\n",
    "test_annotations = './data/GTSRB/Final_Test/GT-final_test.csv'\n",
    "\n",
    "test_df = pd.read_csv(test_annotations, delimiter=';')\n",
    "test_dataset = GTSRBdataset(annotations=test_df,\n",
    "                            directory=test_directory,\n",
    "                            transform = train_transform)\n",
    "test_df.head()\n",
    "# Filename \tWidth \tHeight \tRoi.X1 \tRoi.Y1 \tRoi.X2 \tRoi.Y2 \tClassId"
   ]
  },
  {
   "cell_type": "markdown",
   "metadata": {},
   "source": [
    "#### Data Loaders"
   ]
  },
  {
   "cell_type": "code",
   "execution_count": 9,
   "metadata": {},
   "outputs": [],
   "source": [
    "train_batch_size = 100\n",
    "num_classes = 43   # 43 class of traffic sign\n",
    "\n",
    "# Create a DataLoader from the dataset for training\n",
    "train_dataloader = DataLoader(train_dataset, batch_size=train_batch_size, shuffle=True)\n",
    "\n",
    "# Create a DataLoader from the dataset for validation\n",
    "valid_dataloader = DataLoader(valid_dataset, batch_size=train_batch_size, shuffle=True)\n",
    "\n",
    "# Create a DataLoader from the dataset for validation\n",
    "test_dataloader = DataLoader(test_dataset, batch_size=1, shuffle=True)"
   ]
  },
  {
   "cell_type": "markdown",
   "metadata": {},
   "source": [
    "### Data visualisation"
   ]
  },
  {
   "cell_type": "code",
   "execution_count": 10,
   "metadata": {},
   "outputs": [
    {
     "data": {
      "image/png": "[encoded data removed]",
      "text/plain": [
       "<Figure size 640x480 with 5 Axes>"
      ]
     },
     "metadata": {},
     "output_type": "display_data"
    }
   ],
   "source": [
    "import matplotlib.patches as patches\n",
    "\n",
    "# random sample from the DataLoader\n",
    "for batch_idx, sample in enumerate(train_dataloader):\n",
    "    \n",
    "    fig, axs = plt.subplots(nrows=1, ncols=5)\n",
    "\n",
    "    for i in range(5):\n",
    "        image_tensor = sample[0][i]\n",
    "        bboxes = sample[1][i]\n",
    "        labels = sample[2][i]\n",
    "\n",
    "        x1, y1, x2, y2 = bboxes\n",
    "        x1 = x1*32\n",
    "        y1 = y1*32\n",
    "        x2 = x2*32\n",
    "        y2 = y2*32\n",
    "        width = x2 - x1\n",
    "        height = y2 - y1\n",
    "        bbox_patch = patches.Rectangle((x1, y1), width, height, edgecolor='red', linewidth=2, fill=False)\n",
    "        axs[i].add_patch(bbox_patch)\n",
    "        numpy_img = image_tensor.numpy()\n",
    "        img_reshaped = np.moveaxis(numpy_img, 0, 2)\n",
    "        axs[i].imshow(img_reshaped)\n",
    "        axs[i].set_xticks([])\n",
    "        axs[i].set_yticks([])\n",
    "    \n",
    "    plt.title(\"Ground Truth Bboxes\")\n",
    "    plt.plot()\n",
    "    break"
   ]
  },
  {
   "cell_type": "markdown",
   "metadata": {},
   "source": [
    "#### Model Architecture"
   ]
  },
  {
   "cell_type": "code",
   "execution_count": 11,
   "metadata": {},
   "outputs": [],
   "source": [
    "class DetectNet(nn.Module):\n",
    "    def __init__(self, num_classes):\n",
    "        super(DetectNet, self).__init__()\n",
    "\n",
    "        # First convolutional layer\n",
    "        self.conv1 = nn.Conv2d(3, 32, kernel_size=3, stride=1, padding=0)\n",
    "\n",
    "        \n",
    "        # Second convolutional layer\n",
    "        self.conv2 = nn.Conv2d(32, 64, kernel_size=3, stride=1, padding=0)\n",
    "\n",
    "        # Third convolutional layer\n",
    "        self.conv3 = nn.Conv2d(64, 128, kernel_size=3, stride=1, padding=0)\n",
    "\n",
    "        # First fully connected layer\n",
    "        self.fc1 = nn.Linear(128*2*2, 128)\n",
    "\n",
    "        # Second fully connected layer\n",
    "        self.fc2 = nn.Linear(128, 64)\n",
    "        \n",
    "        # FC for bbox\n",
    "        self.fcbx1 = nn.Linear(64, 32)\n",
    "        self.fcbx2 = nn.Linear(32, 4)\n",
    "        \n",
    "        # Output layer with 43 neurons \n",
    "        self.fcc = nn.Linear(64, num_classes)\n",
    "        \n",
    "\n",
    "    def forward(self, x):\n",
    "        # First convolutional layer\n",
    "        x = F.relu(self.conv1(x))\n",
    "        x = F.max_pool2d(x, kernel_size=2, stride=2)\n",
    "        \n",
    "        # Second convolutional layer\n",
    "        x = F.relu(self.conv2(x))\n",
    "        x = F.max_pool2d(x, kernel_size=2, stride=2)\n",
    "\n",
    "        # Third convolutional layer\n",
    "        x = F.relu(self.conv3(x))\n",
    "        x = F.max_pool2d(x, kernel_size=2, stride=2)\n",
    "\n",
    "        # Flatten the output from the convolutional layers\n",
    "        x = torch.flatten(x, 1)\n",
    "\n",
    "        # First fully connected layer\n",
    "        x = F.relu(self.fc1(x))\n",
    "\n",
    "        # Second fully connected layer\n",
    "        x = F.relu(self.fc2(x))\n",
    "        \n",
    "        bbox = F.relu(self.fcbx1(x))\n",
    "        bbox = F.relu(self.fcbx2(bbox))\n",
    "\n",
    "        # Apply sigmoid activation function to the output layer\n",
    "        class_id = self.fcc(x)\n",
    "\n",
    "        return (bbox), class_id"
   ]
  },
  {
   "cell_type": "code",
   "execution_count": 12,
   "metadata": {},
   "outputs": [
    {
     "name": "stdout",
     "output_type": "stream",
     "text": [
      "----------------------------------------------------------------\n",
      "        Layer (type)               Output Shape         Param #\n",
      "================================================================\n",
      "            Conv2d-1           [-1, 32, 30, 30]             896\n",
      "            Conv2d-2           [-1, 64, 13, 13]          18,496\n",
      "            Conv2d-3            [-1, 128, 4, 4]          73,856\n",
      "            Linear-4                  [-1, 128]          65,664\n",
      "            Linear-5                   [-1, 64]           8,256\n",
      "            Linear-6                   [-1, 32]           2,080\n",
      "            Linear-7                    [-1, 4]             132\n",
      "            Linear-8                   [-1, 43]           2,795\n",
      "================================================================\n",
      "Total params: 172,175\n",
      "Trainable params: 172,175\n",
      "Non-trainable params: 0\n",
      "----------------------------------------------------------------\n",
      "Input size (MB): 0.01\n",
      "Forward/backward pass size (MB): 0.32\n",
      "Params size (MB): 0.66\n",
      "Estimated Total Size (MB): 0.99\n",
      "----------------------------------------------------------------\n"
     ]
    }
   ],
   "source": [
    "# Move the model to the GPU if available\n",
    "device = torch.device('cuda' if torch.cuda.is_available() else 'cpu')\n",
    "\n",
    "# Define the model\n",
    "model = DetectNet(num_classes)\n",
    "\n",
    "model.to(device)\n",
    "\n",
    "# Print the model summary\n",
    "summary(model, (3, 32, 32))"
   ]
  },
  {
   "cell_type": "markdown",
   "metadata": {},
   "source": [
    "### Model Training"
   ]
  },
  {
   "cell_type": "code",
   "execution_count": 28,
   "metadata": {},
   "outputs": [
    {
     "name": "stdout",
     "output_type": "stream",
     "text": [
      "Epoch 1/50\n"
     ]
    },
    {
     "name": "stderr",
     "output_type": "stream",
     "text": [
      "100%|███████████████████████████████████████████████████████| 314/314 [00:25<00:00, 12.51it/s]\n"
     ]
    },
    {
     "name": "stdout",
     "output_type": "stream",
     "text": [
      "Training    : BBox_Loss = 0.0055 Class_Loss = 0.1617\n"
     ]
    },
    {
     "name": "stderr",
     "output_type": "stream",
     "text": [
      "100%|█████████████████████████████████████████████████████████| 79/79 [00:05<00:00, 15.54it/s]\n"
     ]
    },
    {
     "name": "stdout",
     "output_type": "stream",
     "text": [
      "Validation  : BBox_Loss = 0.0089 Class_Loss = 0.1666\n",
      "\n",
      "Epoch 2/50\n"
     ]
    },
    {
     "name": "stderr",
     "output_type": "stream",
     "text": [
      "100%|███████████████████████████████████████████████████████| 314/314 [00:21<00:00, 14.60it/s]\n"
     ]
    },
    {
     "name": "stdout",
     "output_type": "stream",
     "text": [
      "Training    : BBox_Loss = 0.0041 Class_Loss = 0.1145\n"
     ]
    },
    {
     "name": "stderr",
     "output_type": "stream",
     "text": [
      "100%|█████████████████████████████████████████████████████████| 79/79 [00:04<00:00, 18.89it/s]\n"
     ]
    },
    {
     "name": "stdout",
     "output_type": "stream",
     "text": [
      "Validation  : BBox_Loss = 0.0032 Class_Loss = 0.1167\n",
      "\n",
      "Epoch 3/50\n"
     ]
    },
    {
     "name": "stderr",
     "output_type": "stream",
     "text": [
      "100%|███████████████████████████████████████████████████████| 314/314 [00:21<00:00, 14.80it/s]\n"
     ]
    },
    {
     "name": "stdout",
     "output_type": "stream",
     "text": [
      "Training    : BBox_Loss = 0.0029 Class_Loss = 0.0855\n"
     ]
    },
    {
     "name": "stderr",
     "output_type": "stream",
     "text": [
      "100%|█████████████████████████████████████████████████████████| 79/79 [00:04<00:00, 19.12it/s]\n"
     ]
    },
    {
     "name": "stdout",
     "output_type": "stream",
     "text": [
      "Validation  : BBox_Loss = 0.0027 Class_Loss = 0.1063\n",
      "\n",
      "Epoch 4/50\n"
     ]
    },
    {
     "name": "stderr",
     "output_type": "stream",
     "text": [
      "100%|███████████████████████████████████████████████████████| 314/314 [00:21<00:00, 14.49it/s]\n"
     ]
    },
    {
     "name": "stdout",
     "output_type": "stream",
     "text": [
      "Training    : BBox_Loss = 0.0023 Class_Loss = 0.0665\n"
     ]
    },
    {
     "name": "stderr",
     "output_type": "stream",
     "text": [
      "100%|█████████████████████████████████████████████████████████| 79/79 [00:04<00:00, 18.96it/s]\n"
     ]
    },
    {
     "name": "stdout",
     "output_type": "stream",
     "text": [
      "Validation  : BBox_Loss = 0.0022 Class_Loss = 0.1279\n",
      "\n",
      "Epoch 5/50\n"
     ]
    },
    {
     "name": "stderr",
     "output_type": "stream",
     "text": [
      "100%|███████████████████████████████████████████████████████| 314/314 [00:21<00:00, 14.50it/s]\n"
     ]
    },
    {
     "name": "stdout",
     "output_type": "stream",
     "text": [
      "Training    : BBox_Loss = 0.0018 Class_Loss = 0.0502\n"
     ]
    },
    {
     "name": "stderr",
     "output_type": "stream",
     "text": [
      "100%|█████████████████████████████████████████████████████████| 79/79 [00:04<00:00, 18.83it/s]\n"
     ]
    },
    {
     "name": "stdout",
     "output_type": "stream",
     "text": [
      "Validation  : BBox_Loss = 0.0018 Class_Loss = 0.0897\n",
      "\n",
      "Epoch 6/50\n"
     ]
    },
    {
     "name": "stderr",
     "output_type": "stream",
     "text": [
      "100%|███████████████████████████████████████████████████████| 314/314 [00:21<00:00, 14.72it/s]\n"
     ]
    },
    {
     "name": "stdout",
     "output_type": "stream",
     "text": [
      "Training    : BBox_Loss = 0.0014 Class_Loss = 0.0370\n"
     ]
    },
    {
     "name": "stderr",
     "output_type": "stream",
     "text": [
      "100%|█████████████████████████████████████████████████████████| 79/79 [00:04<00:00, 17.39it/s]\n"
     ]
    },
    {
     "name": "stdout",
     "output_type": "stream",
     "text": [
      "Validation  : BBox_Loss = 0.0012 Class_Loss = 0.0722\n",
      "\n",
      "Epoch 7/50\n"
     ]
    },
    {
     "name": "stderr",
     "output_type": "stream",
     "text": [
      "100%|███████████████████████████████████████████████████████| 314/314 [00:21<00:00, 14.44it/s]\n"
     ]
    },
    {
     "name": "stdout",
     "output_type": "stream",
     "text": [
      "Training    : BBox_Loss = 0.0012 Class_Loss = 0.0309\n"
     ]
    },
    {
     "name": "stderr",
     "output_type": "stream",
     "text": [
      "100%|█████████████████████████████████████████████████████████| 79/79 [00:04<00:00, 18.55it/s]\n"
     ]
    },
    {
     "name": "stdout",
     "output_type": "stream",
     "text": [
      "Validation  : BBox_Loss = 0.0013 Class_Loss = 0.0824\n",
      "\n",
      "Epoch 8/50\n"
     ]
    },
    {
     "name": "stderr",
     "output_type": "stream",
     "text": [
      "100%|███████████████████████████████████████████████████████| 314/314 [00:21<00:00, 14.61it/s]\n"
     ]
    },
    {
     "name": "stdout",
     "output_type": "stream",
     "text": [
      "Training    : BBox_Loss = 0.0011 Class_Loss = 0.0309\n"
     ]
    },
    {
     "name": "stderr",
     "output_type": "stream",
     "text": [
      "100%|█████████████████████████████████████████████████████████| 79/79 [00:04<00:00, 18.95it/s]\n"
     ]
    },
    {
     "name": "stdout",
     "output_type": "stream",
     "text": [
      "Validation  : BBox_Loss = 0.0012 Class_Loss = 0.0991\n",
      "\n",
      "Epoch 9/50\n"
     ]
    },
    {
     "name": "stderr",
     "output_type": "stream",
     "text": [
      "100%|███████████████████████████████████████████████████████| 314/314 [00:21<00:00, 14.47it/s]\n"
     ]
    },
    {
     "name": "stdout",
     "output_type": "stream",
     "text": [
      "Training    : BBox_Loss = 0.0010 Class_Loss = 0.0290\n"
     ]
    },
    {
     "name": "stderr",
     "output_type": "stream",
     "text": [
      "100%|█████████████████████████████████████████████████████████| 79/79 [00:04<00:00, 19.00it/s]\n"
     ]
    },
    {
     "name": "stdout",
     "output_type": "stream",
     "text": [
      "Validation  : BBox_Loss = 0.0012 Class_Loss = 0.0720\n",
      "\n",
      "Epoch 10/50\n"
     ]
    },
    {
     "name": "stderr",
     "output_type": "stream",
     "text": [
      "100%|███████████████████████████████████████████████████████| 314/314 [00:21<00:00, 14.71it/s]\n"
     ]
    },
    {
     "name": "stdout",
     "output_type": "stream",
     "text": [
      "Training    : BBox_Loss = 0.0010 Class_Loss = 0.0234\n"
     ]
    },
    {
     "name": "stderr",
     "output_type": "stream",
     "text": [
      "100%|█████████████████████████████████████████████████████████| 79/79 [00:04<00:00, 19.02it/s]\n"
     ]
    },
    {
     "name": "stdout",
     "output_type": "stream",
     "text": [
      "Validation  : BBox_Loss = 0.0010 Class_Loss = 0.0739\n",
      "\n",
      "Epoch 11/50\n"
     ]
    },
    {
     "name": "stderr",
     "output_type": "stream",
     "text": [
      "100%|███████████████████████████████████████████████████████| 314/314 [00:21<00:00, 14.44it/s]\n"
     ]
    },
    {
     "name": "stdout",
     "output_type": "stream",
     "text": [
      "Training    : BBox_Loss = 0.0009 Class_Loss = 0.0203\n"
     ]
    },
    {
     "name": "stderr",
     "output_type": "stream",
     "text": [
      "100%|█████████████████████████████████████████████████████████| 79/79 [00:04<00:00, 19.15it/s]\n"
     ]
    },
    {
     "name": "stdout",
     "output_type": "stream",
     "text": [
      "Validation  : BBox_Loss = 0.0010 Class_Loss = 0.0605\n",
      "\n",
      "Epoch 12/50\n"
     ]
    },
    {
     "name": "stderr",
     "output_type": "stream",
     "text": [
      "100%|███████████████████████████████████████████████████████| 314/314 [00:21<00:00, 14.62it/s]\n"
     ]
    },
    {
     "name": "stdout",
     "output_type": "stream",
     "text": [
      "Training    : BBox_Loss = 0.0009 Class_Loss = 0.0203\n"
     ]
    },
    {
     "name": "stderr",
     "output_type": "stream",
     "text": [
      "100%|█████████████████████████████████████████████████████████| 79/79 [00:04<00:00, 18.65it/s]\n"
     ]
    },
    {
     "name": "stdout",
     "output_type": "stream",
     "text": [
      "Validation  : BBox_Loss = 0.0008 Class_Loss = 0.0654\n",
      "\n",
      "Epoch 13/50\n"
     ]
    },
    {
     "name": "stderr",
     "output_type": "stream",
     "text": [
      "100%|███████████████████████████████████████████████████████| 314/314 [00:21<00:00, 14.43it/s]\n"
     ]
    },
    {
     "name": "stdout",
     "output_type": "stream",
     "text": [
      "Training    : BBox_Loss = 0.0009 Class_Loss = 0.0193\n"
     ]
    },
    {
     "name": "stderr",
     "output_type": "stream",
     "text": [
      "100%|█████████████████████████████████████████████████████████| 79/79 [00:04<00:00, 18.67it/s]\n"
     ]
    },
    {
     "name": "stdout",
     "output_type": "stream",
     "text": [
      "Validation  : BBox_Loss = 0.0008 Class_Loss = 0.0797\n",
      "\n",
      "Epoch 14/50\n"
     ]
    },
    {
     "name": "stderr",
     "output_type": "stream",
     "text": [
      "100%|███████████████████████████████████████████████████████| 314/314 [00:22<00:00, 14.19it/s]\n"
     ]
    },
    {
     "name": "stdout",
     "output_type": "stream",
     "text": [
      "Training    : BBox_Loss = 0.0009 Class_Loss = 0.0176\n"
     ]
    },
    {
     "name": "stderr",
     "output_type": "stream",
     "text": [
      "100%|█████████████████████████████████████████████████████████| 79/79 [00:04<00:00, 18.59it/s]\n"
     ]
    },
    {
     "name": "stdout",
     "output_type": "stream",
     "text": [
      "Validation  : BBox_Loss = 0.0008 Class_Loss = 0.0610\n",
      "\n",
      "Epoch 15/50\n"
     ]
    },
    {
     "name": "stderr",
     "output_type": "stream",
     "text": [
      "100%|███████████████████████████████████████████████████████| 314/314 [00:21<00:00, 14.52it/s]\n"
     ]
    },
    {
     "name": "stdout",
     "output_type": "stream",
     "text": [
      "Training    : BBox_Loss = 0.0009 Class_Loss = 0.0132\n"
     ]
    },
    {
     "name": "stderr",
     "output_type": "stream",
     "text": [
      "100%|█████████████████████████████████████████████████████████| 79/79 [00:04<00:00, 18.80it/s]\n"
     ]
    },
    {
     "name": "stdout",
     "output_type": "stream",
     "text": [
      "Validation  : BBox_Loss = 0.0009 Class_Loss = 0.0687\n",
      "\n",
      "Epoch 16/50\n"
     ]
    },
    {
     "name": "stderr",
     "output_type": "stream",
     "text": [
      "100%|███████████████████████████████████████████████████████| 314/314 [00:21<00:00, 14.49it/s]\n"
     ]
    },
    {
     "name": "stdout",
     "output_type": "stream",
     "text": [
      "Training    : BBox_Loss = 0.0008 Class_Loss = 0.0191\n"
     ]
    },
    {
     "name": "stderr",
     "output_type": "stream",
     "text": [
      "100%|█████████████████████████████████████████████████████████| 79/79 [00:04<00:00, 18.96it/s]\n"
     ]
    },
    {
     "name": "stdout",
     "output_type": "stream",
     "text": [
      "Validation  : BBox_Loss = 0.0008 Class_Loss = 0.0742\n",
      "\n",
      "Epoch 17/50\n"
     ]
    },
    {
     "name": "stderr",
     "output_type": "stream",
     "text": [
      "100%|███████████████████████████████████████████████████████| 314/314 [00:21<00:00, 14.74it/s]\n"
     ]
    },
    {
     "name": "stdout",
     "output_type": "stream",
     "text": [
      "Training    : BBox_Loss = 0.0008 Class_Loss = 0.0078\n"
     ]
    },
    {
     "name": "stderr",
     "output_type": "stream",
     "text": [
      "100%|█████████████████████████████████████████████████████████| 79/79 [00:04<00:00, 18.90it/s]\n"
     ]
    },
    {
     "name": "stdout",
     "output_type": "stream",
     "text": [
      "Validation  : BBox_Loss = 0.0009 Class_Loss = 0.0540\n",
      "\n",
      "Epoch 18/50\n"
     ]
    },
    {
     "name": "stderr",
     "output_type": "stream",
     "text": [
      "100%|███████████████████████████████████████████████████████| 314/314 [00:22<00:00, 14.26it/s]\n"
     ]
    },
    {
     "name": "stdout",
     "output_type": "stream",
     "text": [
      "Training    : BBox_Loss = 0.0008 Class_Loss = 0.0136\n"
     ]
    },
    {
     "name": "stderr",
     "output_type": "stream",
     "text": [
      "100%|█████████████████████████████████████████████████████████| 79/79 [00:04<00:00, 18.96it/s]\n"
     ]
    },
    {
     "name": "stdout",
     "output_type": "stream",
     "text": [
      "Validation  : BBox_Loss = 0.0008 Class_Loss = 0.1587\n",
      "\n",
      "Epoch 19/50\n"
     ]
    },
    {
     "name": "stderr",
     "output_type": "stream",
     "text": [
      "100%|███████████████████████████████████████████████████████| 314/314 [00:21<00:00, 14.70it/s]\n"
     ]
    },
    {
     "name": "stdout",
     "output_type": "stream",
     "text": [
      "Training    : BBox_Loss = 0.0008 Class_Loss = 0.0204\n"
     ]
    },
    {
     "name": "stderr",
     "output_type": "stream",
     "text": [
      "100%|█████████████████████████████████████████████████████████| 79/79 [00:04<00:00, 18.95it/s]\n"
     ]
    },
    {
     "name": "stdout",
     "output_type": "stream",
     "text": [
      "Validation  : BBox_Loss = 0.0009 Class_Loss = 0.0635\n",
      "\n",
      "Epoch 20/50\n"
     ]
    },
    {
     "name": "stderr",
     "output_type": "stream",
     "text": [
      "100%|███████████████████████████████████████████████████████| 314/314 [00:21<00:00, 14.73it/s]\n"
     ]
    },
    {
     "name": "stdout",
     "output_type": "stream",
     "text": [
      "Training    : BBox_Loss = 0.0008 Class_Loss = 0.0079\n"
     ]
    },
    {
     "name": "stderr",
     "output_type": "stream",
     "text": [
      "100%|█████████████████████████████████████████████████████████| 79/79 [00:04<00:00, 19.04it/s]\n"
     ]
    },
    {
     "name": "stdout",
     "output_type": "stream",
     "text": [
      "Validation  : BBox_Loss = 0.0008 Class_Loss = 0.0695\n",
      "\n",
      "Epoch 21/50\n"
     ]
    },
    {
     "name": "stderr",
     "output_type": "stream",
     "text": [
      "100%|███████████████████████████████████████████████████████| 314/314 [00:21<00:00, 14.67it/s]\n"
     ]
    },
    {
     "name": "stdout",
     "output_type": "stream",
     "text": [
      "Training    : BBox_Loss = 0.0007 Class_Loss = 0.0040\n"
     ]
    },
    {
     "name": "stderr",
     "output_type": "stream",
     "text": [
      "100%|█████████████████████████████████████████████████████████| 79/79 [00:04<00:00, 18.77it/s]\n"
     ]
    },
    {
     "name": "stdout",
     "output_type": "stream",
     "text": [
      "Validation  : BBox_Loss = 0.0007 Class_Loss = 0.0512\n",
      "\n",
      "Epoch 22/50\n"
     ]
    },
    {
     "name": "stderr",
     "output_type": "stream",
     "text": [
      "100%|███████████████████████████████████████████████████████| 314/314 [00:21<00:00, 14.77it/s]\n"
     ]
    },
    {
     "name": "stdout",
     "output_type": "stream",
     "text": [
      "Training    : BBox_Loss = 0.0008 Class_Loss = 0.0120\n"
     ]
    },
    {
     "name": "stderr",
     "output_type": "stream",
     "text": [
      "100%|█████████████████████████████████████████████████████████| 79/79 [00:04<00:00, 19.11it/s]\n"
     ]
    },
    {
     "name": "stdout",
     "output_type": "stream",
     "text": [
      "Validation  : BBox_Loss = 0.0008 Class_Loss = 0.1023\n",
      "\n",
      "Epoch 23/50\n"
     ]
    },
    {
     "name": "stderr",
     "output_type": "stream",
     "text": [
      "100%|███████████████████████████████████████████████████████| 314/314 [00:22<00:00, 14.19it/s]\n"
     ]
    },
    {
     "name": "stdout",
     "output_type": "stream",
     "text": [
      "Training    : BBox_Loss = 0.0008 Class_Loss = 0.0179\n"
     ]
    },
    {
     "name": "stderr",
     "output_type": "stream",
     "text": [
      "100%|█████████████████████████████████████████████████████████| 79/79 [00:04<00:00, 19.07it/s]\n"
     ]
    },
    {
     "name": "stdout",
     "output_type": "stream",
     "text": [
      "Validation  : BBox_Loss = 0.0008 Class_Loss = 0.0596\n",
      "\n",
      "Epoch 24/50\n"
     ]
    },
    {
     "name": "stderr",
     "output_type": "stream",
     "text": [
      "100%|███████████████████████████████████████████████████████| 314/314 [00:21<00:00, 14.70it/s]\n"
     ]
    },
    {
     "name": "stdout",
     "output_type": "stream",
     "text": [
      "Training    : BBox_Loss = 0.0008 Class_Loss = 0.0150\n"
     ]
    },
    {
     "name": "stderr",
     "output_type": "stream",
     "text": [
      "100%|█████████████████████████████████████████████████████████| 79/79 [00:04<00:00, 18.91it/s]\n"
     ]
    },
    {
     "name": "stdout",
     "output_type": "stream",
     "text": [
      "Validation  : BBox_Loss = 0.0008 Class_Loss = 0.0529\n",
      "\n",
      "Epoch 25/50\n"
     ]
    },
    {
     "name": "stderr",
     "output_type": "stream",
     "text": [
      "100%|███████████████████████████████████████████████████████| 314/314 [00:21<00:00, 14.61it/s]\n"
     ]
    },
    {
     "name": "stdout",
     "output_type": "stream",
     "text": [
      "Training    : BBox_Loss = 0.0007 Class_Loss = 0.0038\n"
     ]
    },
    {
     "name": "stderr",
     "output_type": "stream",
     "text": [
      "100%|█████████████████████████████████████████████████████████| 79/79 [00:04<00:00, 19.00it/s]\n"
     ]
    },
    {
     "name": "stdout",
     "output_type": "stream",
     "text": [
      "Validation  : BBox_Loss = 0.0007 Class_Loss = 0.0633\n",
      "\n",
      "Epoch 26/50\n"
     ]
    },
    {
     "name": "stderr",
     "output_type": "stream",
     "text": [
      "100%|███████████████████████████████████████████████████████| 314/314 [00:21<00:00, 14.78it/s]\n"
     ]
    },
    {
     "name": "stdout",
     "output_type": "stream",
     "text": [
      "Training    : BBox_Loss = 0.0007 Class_Loss = 0.0057\n"
     ]
    },
    {
     "name": "stderr",
     "output_type": "stream",
     "text": [
      "100%|█████████████████████████████████████████████████████████| 79/79 [00:04<00:00, 18.86it/s]\n"
     ]
    },
    {
     "name": "stdout",
     "output_type": "stream",
     "text": [
      "Validation  : BBox_Loss = 0.0007 Class_Loss = 0.0742\n",
      "\n",
      "Epoch 27/50\n"
     ]
    },
    {
     "name": "stderr",
     "output_type": "stream",
     "text": [
      "100%|███████████████████████████████████████████████████████| 314/314 [00:21<00:00, 14.54it/s]\n"
     ]
    },
    {
     "name": "stdout",
     "output_type": "stream",
     "text": [
      "Training    : BBox_Loss = 0.0007 Class_Loss = 0.0136\n"
     ]
    },
    {
     "name": "stderr",
     "output_type": "stream",
     "text": [
      "100%|█████████████████████████████████████████████████████████| 79/79 [00:04<00:00, 18.94it/s]\n"
     ]
    },
    {
     "name": "stdout",
     "output_type": "stream",
     "text": [
      "Validation  : BBox_Loss = 0.0008 Class_Loss = 0.0757\n",
      "\n",
      "Epoch 28/50\n"
     ]
    },
    {
     "name": "stderr",
     "output_type": "stream",
     "text": [
      "100%|███████████████████████████████████████████████████████| 314/314 [00:21<00:00, 14.69it/s]\n"
     ]
    },
    {
     "name": "stdout",
     "output_type": "stream",
     "text": [
      "Training    : BBox_Loss = 0.0007 Class_Loss = 0.0090\n"
     ]
    },
    {
     "name": "stderr",
     "output_type": "stream",
     "text": [
      "100%|█████████████████████████████████████████████████████████| 79/79 [00:04<00:00, 18.96it/s]\n"
     ]
    },
    {
     "name": "stdout",
     "output_type": "stream",
     "text": [
      "Validation  : BBox_Loss = 0.0008 Class_Loss = 0.0702\n",
      "\n",
      "Epoch 29/50\n"
     ]
    },
    {
     "name": "stderr",
     "output_type": "stream",
     "text": [
      "100%|███████████████████████████████████████████████████████| 314/314 [00:22<00:00, 13.84it/s]\n"
     ]
    },
    {
     "name": "stdout",
     "output_type": "stream",
     "text": [
      "Training    : BBox_Loss = 0.0007 Class_Loss = 0.0082\n"
     ]
    },
    {
     "name": "stderr",
     "output_type": "stream",
     "text": [
      "100%|█████████████████████████████████████████████████████████| 79/79 [00:04<00:00, 18.58it/s]\n"
     ]
    },
    {
     "name": "stdout",
     "output_type": "stream",
     "text": [
      "Validation  : BBox_Loss = 0.0007 Class_Loss = 0.0647\n",
      "\n",
      "Epoch 30/50\n"
     ]
    },
    {
     "name": "stderr",
     "output_type": "stream",
     "text": [
      "100%|███████████████████████████████████████████████████████| 314/314 [00:21<00:00, 14.41it/s]\n"
     ]
    },
    {
     "name": "stdout",
     "output_type": "stream",
     "text": [
      "Training    : BBox_Loss = 0.0007 Class_Loss = 0.0134\n"
     ]
    },
    {
     "name": "stderr",
     "output_type": "stream",
     "text": [
      "100%|█████████████████████████████████████████████████████████| 79/79 [00:04<00:00, 18.56it/s]\n"
     ]
    },
    {
     "name": "stdout",
     "output_type": "stream",
     "text": [
      "Validation  : BBox_Loss = 0.0007 Class_Loss = 0.0606\n",
      "\n",
      "Epoch 31/50\n"
     ]
    },
    {
     "name": "stderr",
     "output_type": "stream",
     "text": [
      "100%|███████████████████████████████████████████████████████| 314/314 [00:21<00:00, 14.50it/s]\n"
     ]
    },
    {
     "name": "stdout",
     "output_type": "stream",
     "text": [
      "Training    : BBox_Loss = 0.0007 Class_Loss = 0.0050\n"
     ]
    },
    {
     "name": "stderr",
     "output_type": "stream",
     "text": [
      "100%|█████████████████████████████████████████████████████████| 79/79 [00:04<00:00, 18.47it/s]\n"
     ]
    },
    {
     "name": "stdout",
     "output_type": "stream",
     "text": [
      "Validation  : BBox_Loss = 0.0007 Class_Loss = 0.0674\n",
      "\n",
      "Epoch 32/50\n"
     ]
    },
    {
     "name": "stderr",
     "output_type": "stream",
     "text": [
      "100%|███████████████████████████████████████████████████████| 314/314 [00:21<00:00, 14.63it/s]\n"
     ]
    },
    {
     "name": "stdout",
     "output_type": "stream",
     "text": [
      "Training    : BBox_Loss = 0.0007 Class_Loss = 0.0118\n"
     ]
    },
    {
     "name": "stderr",
     "output_type": "stream",
     "text": [
      "100%|█████████████████████████████████████████████████████████| 79/79 [00:04<00:00, 19.12it/s]\n"
     ]
    },
    {
     "name": "stdout",
     "output_type": "stream",
     "text": [
      "Validation  : BBox_Loss = 0.0008 Class_Loss = 0.1168\n",
      "\n",
      "Epoch 33/50\n"
     ]
    },
    {
     "name": "stderr",
     "output_type": "stream",
     "text": [
      "100%|███████████████████████████████████████████████████████| 314/314 [00:21<00:00, 14.61it/s]\n"
     ]
    },
    {
     "name": "stdout",
     "output_type": "stream",
     "text": [
      "Training    : BBox_Loss = 0.0007 Class_Loss = 0.0064\n"
     ]
    },
    {
     "name": "stderr",
     "output_type": "stream",
     "text": [
      "100%|█████████████████████████████████████████████████████████| 79/79 [00:04<00:00, 18.91it/s]\n"
     ]
    },
    {
     "name": "stdout",
     "output_type": "stream",
     "text": [
      "Validation  : BBox_Loss = 0.0007 Class_Loss = 0.0610\n",
      "\n",
      "Epoch 34/50\n"
     ]
    },
    {
     "name": "stderr",
     "output_type": "stream",
     "text": [
      "100%|███████████████████████████████████████████████████████| 314/314 [00:21<00:00, 14.58it/s]\n"
     ]
    },
    {
     "name": "stdout",
     "output_type": "stream",
     "text": [
      "Training    : BBox_Loss = 0.0007 Class_Loss = 0.0053\n"
     ]
    },
    {
     "name": "stderr",
     "output_type": "stream",
     "text": [
      "100%|█████████████████████████████████████████████████████████| 79/79 [00:04<00:00, 18.79it/s]\n"
     ]
    },
    {
     "name": "stdout",
     "output_type": "stream",
     "text": [
      "Validation  : BBox_Loss = 0.0007 Class_Loss = 0.0624\n",
      "\n",
      "Epoch 35/50\n"
     ]
    },
    {
     "name": "stderr",
     "output_type": "stream",
     "text": [
      "100%|███████████████████████████████████████████████████████| 314/314 [00:21<00:00, 14.58it/s]\n"
     ]
    },
    {
     "name": "stdout",
     "output_type": "stream",
     "text": [
      "Training    : BBox_Loss = 0.0007 Class_Loss = 0.0116\n"
     ]
    },
    {
     "name": "stderr",
     "output_type": "stream",
     "text": [
      "100%|█████████████████████████████████████████████████████████| 79/79 [00:04<00:00, 18.90it/s]\n"
     ]
    },
    {
     "name": "stdout",
     "output_type": "stream",
     "text": [
      "Validation  : BBox_Loss = 0.0007 Class_Loss = 0.0702\n",
      "\n",
      "Epoch 36/50\n"
     ]
    },
    {
     "name": "stderr",
     "output_type": "stream",
     "text": [
      "100%|███████████████████████████████████████████████████████| 314/314 [00:22<00:00, 13.98it/s]\n"
     ]
    },
    {
     "name": "stdout",
     "output_type": "stream",
     "text": [
      "Training    : BBox_Loss = 0.0007 Class_Loss = 0.0070\n"
     ]
    },
    {
     "name": "stderr",
     "output_type": "stream",
     "text": [
      "100%|█████████████████████████████████████████████████████████| 79/79 [00:04<00:00, 18.79it/s]\n"
     ]
    },
    {
     "name": "stdout",
     "output_type": "stream",
     "text": [
      "Validation  : BBox_Loss = 0.0007 Class_Loss = 0.0550\n",
      "\n",
      "Epoch 37/50\n"
     ]
    },
    {
     "name": "stderr",
     "output_type": "stream",
     "text": [
      "100%|███████████████████████████████████████████████████████| 314/314 [00:21<00:00, 14.62it/s]\n"
     ]
    },
    {
     "name": "stdout",
     "output_type": "stream",
     "text": [
      "Training    : BBox_Loss = 0.0007 Class_Loss = 0.0044\n"
     ]
    },
    {
     "name": "stderr",
     "output_type": "stream",
     "text": [
      "100%|█████████████████████████████████████████████████████████| 79/79 [00:04<00:00, 18.63it/s]\n"
     ]
    },
    {
     "name": "stdout",
     "output_type": "stream",
     "text": [
      "Validation  : BBox_Loss = 0.0007 Class_Loss = 0.0542\n",
      "\n",
      "Epoch 38/50\n"
     ]
    },
    {
     "name": "stderr",
     "output_type": "stream",
     "text": [
      "100%|███████████████████████████████████████████████████████| 314/314 [00:21<00:00, 14.44it/s]\n"
     ]
    },
    {
     "name": "stdout",
     "output_type": "stream",
     "text": [
      "Training    : BBox_Loss = 0.0007 Class_Loss = 0.0008\n"
     ]
    },
    {
     "name": "stderr",
     "output_type": "stream",
     "text": [
      "100%|█████████████████████████████████████████████████████████| 79/79 [00:04<00:00, 18.74it/s]\n"
     ]
    },
    {
     "name": "stdout",
     "output_type": "stream",
     "text": [
      "Validation  : BBox_Loss = 0.0007 Class_Loss = 0.0691\n",
      "\n",
      "Epoch 39/50\n"
     ]
    },
    {
     "name": "stderr",
     "output_type": "stream",
     "text": [
      "100%|███████████████████████████████████████████████████████| 314/314 [00:21<00:00, 14.38it/s]\n"
     ]
    },
    {
     "name": "stdout",
     "output_type": "stream",
     "text": [
      "Training    : BBox_Loss = 0.0007 Class_Loss = 0.0123\n"
     ]
    },
    {
     "name": "stderr",
     "output_type": "stream",
     "text": [
      "100%|█████████████████████████████████████████████████████████| 79/79 [00:04<00:00, 18.60it/s]\n"
     ]
    },
    {
     "name": "stdout",
     "output_type": "stream",
     "text": [
      "Validation  : BBox_Loss = 0.0007 Class_Loss = 0.0762\n",
      "\n",
      "Epoch 40/50\n"
     ]
    },
    {
     "name": "stderr",
     "output_type": "stream",
     "text": [
      "100%|███████████████████████████████████████████████████████| 314/314 [00:21<00:00, 14.72it/s]\n"
     ]
    },
    {
     "name": "stdout",
     "output_type": "stream",
     "text": [
      "Training    : BBox_Loss = 0.0007 Class_Loss = 0.0156\n"
     ]
    },
    {
     "name": "stderr",
     "output_type": "stream",
     "text": [
      "100%|█████████████████████████████████████████████████████████| 79/79 [00:04<00:00, 18.97it/s]\n"
     ]
    },
    {
     "name": "stdout",
     "output_type": "stream",
     "text": [
      "Validation  : BBox_Loss = 0.0008 Class_Loss = 0.0729\n",
      "\n",
      "Epoch 41/50\n"
     ]
    },
    {
     "name": "stderr",
     "output_type": "stream",
     "text": [
      "100%|███████████████████████████████████████████████████████| 314/314 [00:21<00:00, 14.58it/s]\n"
     ]
    },
    {
     "name": "stdout",
     "output_type": "stream",
     "text": [
      "Training    : BBox_Loss = 0.0007 Class_Loss = 0.0087\n"
     ]
    },
    {
     "name": "stderr",
     "output_type": "stream",
     "text": [
      "100%|█████████████████████████████████████████████████████████| 79/79 [00:04<00:00, 18.88it/s]\n"
     ]
    },
    {
     "name": "stdout",
     "output_type": "stream",
     "text": [
      "Validation  : BBox_Loss = 0.0007 Class_Loss = 0.0518\n",
      "\n",
      "Epoch 42/50\n"
     ]
    },
    {
     "name": "stderr",
     "output_type": "stream",
     "text": [
      "100%|███████████████████████████████████████████████████████| 314/314 [00:21<00:00, 14.59it/s]\n"
     ]
    },
    {
     "name": "stdout",
     "output_type": "stream",
     "text": [
      "Training    : BBox_Loss = 0.0007 Class_Loss = 0.0015\n"
     ]
    },
    {
     "name": "stderr",
     "output_type": "stream",
     "text": [
      "100%|█████████████████████████████████████████████████████████| 79/79 [00:04<00:00, 18.85it/s]\n"
     ]
    },
    {
     "name": "stdout",
     "output_type": "stream",
     "text": [
      "Validation  : BBox_Loss = 0.0007 Class_Loss = 0.0603\n",
      "\n",
      "Epoch 43/50\n"
     ]
    },
    {
     "name": "stderr",
     "output_type": "stream",
     "text": [
      "100%|███████████████████████████████████████████████████████| 314/314 [00:21<00:00, 14.55it/s]\n"
     ]
    },
    {
     "name": "stdout",
     "output_type": "stream",
     "text": [
      "Training    : BBox_Loss = 0.0007 Class_Loss = 0.0081\n"
     ]
    },
    {
     "name": "stderr",
     "output_type": "stream",
     "text": [
      "100%|█████████████████████████████████████████████████████████| 79/79 [00:04<00:00, 18.64it/s]\n"
     ]
    },
    {
     "name": "stdout",
     "output_type": "stream",
     "text": [
      "Validation  : BBox_Loss = 0.0007 Class_Loss = 0.0753\n",
      "\n",
      "Epoch 44/50\n"
     ]
    },
    {
     "name": "stderr",
     "output_type": "stream",
     "text": [
      "100%|███████████████████████████████████████████████████████| 314/314 [00:21<00:00, 14.41it/s]\n"
     ]
    },
    {
     "name": "stdout",
     "output_type": "stream",
     "text": [
      "Training    : BBox_Loss = 0.0007 Class_Loss = 0.0037\n"
     ]
    },
    {
     "name": "stderr",
     "output_type": "stream",
     "text": [
      "100%|█████████████████████████████████████████████████████████| 79/79 [00:04<00:00, 18.57it/s]\n"
     ]
    },
    {
     "name": "stdout",
     "output_type": "stream",
     "text": [
      "Validation  : BBox_Loss = 0.0007 Class_Loss = 0.0605\n",
      "\n",
      "Epoch 45/50\n"
     ]
    },
    {
     "name": "stderr",
     "output_type": "stream",
     "text": [
      "100%|███████████████████████████████████████████████████████| 314/314 [00:22<00:00, 13.67it/s]\n"
     ]
    },
    {
     "name": "stdout",
     "output_type": "stream",
     "text": [
      "Training    : BBox_Loss = 0.0006 Class_Loss = 0.0004\n"
     ]
    },
    {
     "name": "stderr",
     "output_type": "stream",
     "text": [
      "100%|█████████████████████████████████████████████████████████| 79/79 [00:04<00:00, 18.94it/s]\n"
     ]
    },
    {
     "name": "stdout",
     "output_type": "stream",
     "text": [
      "Validation  : BBox_Loss = 0.0006 Class_Loss = 0.0571\n",
      "\n",
      "Epoch 46/50\n"
     ]
    },
    {
     "name": "stderr",
     "output_type": "stream",
     "text": [
      "100%|███████████████████████████████████████████████████████| 314/314 [00:21<00:00, 14.63it/s]\n"
     ]
    },
    {
     "name": "stdout",
     "output_type": "stream",
     "text": [
      "Training    : BBox_Loss = 0.0006 Class_Loss = 0.0001\n"
     ]
    },
    {
     "name": "stderr",
     "output_type": "stream",
     "text": [
      "100%|█████████████████████████████████████████████████████████| 79/79 [00:04<00:00, 19.11it/s]\n"
     ]
    },
    {
     "name": "stdout",
     "output_type": "stream",
     "text": [
      "Validation  : BBox_Loss = 0.0006 Class_Loss = 0.0550\n",
      "\n",
      "Epoch 47/50\n"
     ]
    },
    {
     "name": "stderr",
     "output_type": "stream",
     "text": [
      "100%|███████████████████████████████████████████████████████| 314/314 [00:21<00:00, 14.67it/s]\n"
     ]
    },
    {
     "name": "stdout",
     "output_type": "stream",
     "text": [
      "Training    : BBox_Loss = 0.0006 Class_Loss = 0.0000\n"
     ]
    },
    {
     "name": "stderr",
     "output_type": "stream",
     "text": [
      "100%|█████████████████████████████████████████████████████████| 79/79 [00:04<00:00, 19.09it/s]\n"
     ]
    },
    {
     "name": "stdout",
     "output_type": "stream",
     "text": [
      "Validation  : BBox_Loss = 0.0006 Class_Loss = 0.0559\n",
      "\n",
      "Epoch 48/50\n"
     ]
    },
    {
     "name": "stderr",
     "output_type": "stream",
     "text": [
      "100%|███████████████████████████████████████████████████████| 314/314 [00:21<00:00, 14.77it/s]\n"
     ]
    },
    {
     "name": "stdout",
     "output_type": "stream",
     "text": [
      "Training    : BBox_Loss = 0.0006 Class_Loss = 0.0000\n"
     ]
    },
    {
     "name": "stderr",
     "output_type": "stream",
     "text": [
      "100%|█████████████████████████████████████████████████████████| 79/79 [00:04<00:00, 18.94it/s]\n"
     ]
    },
    {
     "name": "stdout",
     "output_type": "stream",
     "text": [
      "Validation  : BBox_Loss = 0.0006 Class_Loss = 0.0575\n",
      "\n",
      "Epoch 49/50\n"
     ]
    },
    {
     "name": "stderr",
     "output_type": "stream",
     "text": [
      "100%|███████████████████████████████████████████████████████| 314/314 [00:21<00:00, 14.79it/s]\n"
     ]
    },
    {
     "name": "stdout",
     "output_type": "stream",
     "text": [
      "Training    : BBox_Loss = 0.0005 Class_Loss = 0.0000\n"
     ]
    },
    {
     "name": "stderr",
     "output_type": "stream",
     "text": [
      "100%|█████████████████████████████████████████████████████████| 79/79 [00:04<00:00, 19.25it/s]\n"
     ]
    },
    {
     "name": "stdout",
     "output_type": "stream",
     "text": [
      "Validation  : BBox_Loss = 0.0006 Class_Loss = 0.0580\n",
      "\n",
      "Epoch 50/50\n"
     ]
    },
    {
     "name": "stderr",
     "output_type": "stream",
     "text": [
      "100%|███████████████████████████████████████████████████████| 314/314 [00:21<00:00, 14.66it/s]\n"
     ]
    },
    {
     "name": "stdout",
     "output_type": "stream",
     "text": [
      "Training    : BBox_Loss = 0.0005 Class_Loss = 0.0000\n"
     ]
    },
    {
     "name": "stderr",
     "output_type": "stream",
     "text": [
      "100%|█████████████████████████████████████████████████████████| 79/79 [00:04<00:00, 19.02it/s]"
     ]
    },
    {
     "name": "stdout",
     "output_type": "stream",
     "text": [
      "Validation  : BBox_Loss = 0.0005 Class_Loss = 0.0605\n",
      "\n"
     ]
    },
    {
     "name": "stderr",
     "output_type": "stream",
     "text": [
      "\n"
     ]
    }
   ],
   "source": [
    "# Define the loss functions, and optimizer\n",
    "bbox_loss_fn = nn.MSELoss()\n",
    "class_loss_fn = nn.CrossEntropyLoss()\n",
    "\n",
    "optimizer = optim.Adam(model.parameters(), lr=0.001)\n",
    "\n",
    "# Define the training loop\n",
    "num_epochs = 50\n",
    "\n",
    "train_bbox_loss = []\n",
    "train_class_loss = []\n",
    "\n",
    "valid_bbox_loss = []\n",
    "valid_class_loss = []\n",
    "\n",
    "for epoch in range(num_epochs):\n",
    "    \n",
    "    print(f\"Epoch {epoch+1}/{num_epochs}\")\n",
    "    running_train_bbox_loss = 0.0\n",
    "    running_train_class_loss = 0.0\n",
    "    \n",
    "    running_valid_bbox_loss = 0.0\n",
    "    running_valid_class_loss = 0.0\n",
    "    \n",
    "    for inputs, gt_bboxes, gt_classes in tqdm(train_dataloader):\n",
    "#         print(inputs.dtype)\n",
    "#         print(gt_bboxes.dtype)\n",
    "#         print(gt_classes.dtype)\n",
    "        \n",
    "        inputs = inputs.to(device)\n",
    "        gt_bboxes = gt_bboxes.to(device)\n",
    "        gt_classes =   gt_classes.to(device)\n",
    "        \n",
    "        model.train()  #================train==============\n",
    "        \n",
    "        # Forward pass\n",
    "        bboxes, classes = model(inputs)\n",
    "        \n",
    "        # Calculate the loss for the bounding box coordinates\n",
    "        bbox_loss = bbox_loss_fn(bboxes, gt_bboxes)\n",
    "        \n",
    "        # Calculate the loss for the class label\n",
    "        class_loss = class_loss_fn(classes, gt_classes)\n",
    "        \n",
    "        # Backward pass and optimization\n",
    "        optimizer.zero_grad()\n",
    "\n",
    "        totalLoss = (1.0 * bbox_loss) + (1.0 * class_loss)\n",
    "        totalLoss.backward()\n",
    "        optimizer.step()\n",
    "        \n",
    "        # Update the running loss\n",
    "        running_train_bbox_loss += bbox_loss.item()\n",
    "        running_train_class_loss += class_loss.item()\n",
    "        \n",
    "    # Print the average loss for the epoch training\n",
    "    epoch_train_bbox_loss = running_train_bbox_loss / len(train_dataloader)\n",
    "    epoch_train_class_loss = running_train_class_loss / len(train_dataloader)\n",
    "    \n",
    "    train_bbox_loss.append(epoch_train_bbox_loss)\n",
    "    train_class_loss.append(epoch_train_class_loss)\n",
    "    \n",
    "    print(f\"{'Training':<{12}}: BBox_Loss = {epoch_train_bbox_loss:.4f} Class_Loss = {epoch_train_class_loss:.4f}\")\n",
    "    \n",
    "    for inputs, gt_bboxes, gt_classes in tqdm(valid_dataloader):\n",
    "        inputs = inputs.to(device)\n",
    "        gt_bboxes = gt_bboxes.to(device)\n",
    "        gt_classes =   gt_classes.to(device)\n",
    "        \n",
    "        model.eval() ### validation mode\n",
    "        # Calculate the validation loss\n",
    "        with torch.no_grad():\n",
    "            bboxes, classes = model(inputs)\n",
    "            bbox_loss = bbox_loss_fn(bboxes, gt_bboxes)\n",
    "            class_loss = class_loss_fn(classes, gt_classes)\n",
    "        \n",
    "        # Update the validation loss\n",
    "        running_valid_bbox_loss += bbox_loss.item()\n",
    "        running_valid_class_loss += class_loss.item()\n",
    "    \n",
    "    # Print the average loss for the epoch validation\n",
    "    epoch_valid_bbox_loss = running_valid_bbox_loss / len(valid_dataloader)\n",
    "    epoch_valid_class_loss = running_valid_class_loss / len(valid_dataloader)\n",
    "    \n",
    "    valid_bbox_loss.append(epoch_valid_bbox_loss)\n",
    "    valid_class_loss.append(epoch_valid_class_loss)\n",
    "    \n",
    "    print(f\"{'Validation':<{12}}: BBox_Loss = {epoch_valid_bbox_loss:.4f} Class_Loss = {epoch_valid_class_loss:.4f}\")\n",
    "    print()"
   ]
  },
  {
   "cell_type": "markdown",
   "metadata": {},
   "source": [
    "### Loss Visualisation"
   ]
  },
  {
   "cell_type": "code",
   "execution_count": 56,
   "metadata": {},
   "outputs": [
    {
     "data": {
      "image/png": "[encoded data removed]",
      "text/plain": [
       "<Figure size 640x480 with 1 Axes>"
      ]
     },
     "metadata": {},
     "output_type": "display_data"
    }
   ],
   "source": [
    "epoch_list = [i for i in range(num_epochs)]\n",
    "plt.plot(epoch_list,train_bbox_loss, linestyle=\"--\", label=\"train_bbox_loss\")\n",
    "plt.plot(epoch_list,valid_bbox_loss,label=\"valid_bbox_loss\")\n",
    "\n",
    "plt.xlabel('Epochs')\n",
    "plt.ylabel('Loss')\n",
    "\n",
    "plt.legend()\n",
    "plt.show()"
   ]
  },
  {
   "cell_type": "code",
   "execution_count": 55,
   "metadata": {},
   "outputs": [
    {
     "data": {
      "image/png": "[encoded data removed]",
      "text/plain": [
       "<Figure size 640x480 with 1 Axes>"
      ]
     },
     "metadata": {},
     "output_type": "display_data"
    }
   ],
   "source": [
    "epoch_list = [i for i in range(num_epochs)]\n",
    "plt.plot(epoch_list,train_class_loss, linestyle=\"-.\", label=\"train_class_loss\")\n",
    "plt.plot(epoch_list,valid_class_loss, label=\"valid_class_loss\")\n",
    "plt.xlabel('Epochs')\n",
    "plt.ylabel('Loss')\n",
    "plt.legend()\n",
    "plt.show()"
   ]
  },
  {
   "cell_type": "code",
   "execution_count": 29,
   "metadata": {},
   "outputs": [],
   "source": [
    "import os\n",
    "os.makedirs('./out/', exist_ok=True)\n",
    "\n",
    "# Save the model to a file\n",
    "torch.save(model, './out/model_may14e50.pt')"
   ]
  },
  {
   "cell_type": "markdown",
   "metadata": {},
   "source": [
    "### Testing"
   ]
  },
  {
   "cell_type": "code",
   "execution_count": 32,
   "metadata": {},
   "outputs": [],
   "source": [
    "# load saved model\n",
    "model = torch.load('./out/model_may14e50.pt')"
   ]
  },
  {
   "cell_type": "code",
   "execution_count": 33,
   "metadata": {},
   "outputs": [
    {
     "name": "stderr",
     "output_type": "stream",
     "text": [
      "100%|██████████████████████████████████████████████████████| 500/500 [00:00<00:00, 815.97it/s]"
     ]
    },
    {
     "name": "stdout",
     "output_type": "stream",
     "text": [
      "Predicted correctly 471 out of 500\n"
     ]
    },
    {
     "name": "stderr",
     "output_type": "stream",
     "text": [
      "\n"
     ]
    }
   ],
   "source": [
    "tp = 0\n",
    "n_test_samples = 500\n",
    "test_iter = iter(test_dataloader)\n",
    "\n",
    "for i in tqdm(range(n_test_samples)):\n",
    "    inputs, gt_bboxes, gt_class = next(test_iter) \n",
    "\n",
    "    inputs = inputs.to(device)\n",
    "    gt_bboxes = gt_bboxes.to(device)\n",
    "    gt_classes =   gt_classes.to(device)\n",
    "\n",
    "    model.eval() #================== prediction mode\n",
    "    with torch.no_grad():\n",
    "        bboxes, classes = model(inputs)\n",
    "        \n",
    "        pred_class = torch.argmax(classes.view(-1))\n",
    "        gt_class = gt_class.item()\n",
    "        \n",
    "        if pred_class == gt_class:\n",
    "            tp += 1\n",
    "        \n",
    "print(f\"Predicted correctly {tp} out of {n_test_samples}\")"
   ]
  },
  {
   "cell_type": "code",
   "execution_count": 34,
   "metadata": {},
   "outputs": [
    {
     "data": {
      "text/plain": [
       "12630"
      ]
     },
     "execution_count": 34,
     "metadata": {},
     "output_type": "execute_result"
    }
   ],
   "source": [
    "len(test_dataloader)"
   ]
  },
  {
   "cell_type": "code",
   "execution_count": 59,
   "metadata": {},
   "outputs": [
    {
     "name": "stderr",
     "output_type": "stream",
     "text": [
      "100%|██████████████████████████████████████████████████| 12630/12630 [00:13<00:00, 909.90it/s]"
     ]
    },
    {
     "name": "stdout",
     "output_type": "stream",
     "text": [
      "Predicted correctly 11935 out of 12630 for classification (94.50%)\n"
     ]
    },
    {
     "name": "stderr",
     "output_type": "stream",
     "text": [
      "\n"
     ]
    }
   ],
   "source": [
    "tp = 0\n",
    "n_test_samples = len(test_dataloader)\n",
    "\n",
    "for inputs, gt_bboxes, gt_classes in tqdm(test_dataloader): \n",
    "\n",
    "    inputs = inputs.to(device)\n",
    "    gt_bboxes = gt_bboxes.to(device)\n",
    "    gt_classes =   gt_classes.to(device)\n",
    "\n",
    "    model.eval()\n",
    "    with torch.no_grad():\n",
    "        bboxes, classes = model(inputs)\n",
    "        \n",
    "        pred_class = torch.argmax(classes.view(-1))\n",
    "        gt_class = gt_classes.item()\n",
    "        \n",
    "        if pred_class == gt_class:\n",
    "            tp += 1\n",
    "        \n",
    "print(f\"Predicted correctly {tp} out of {n_test_samples} for classification ({(tp/n_test_samples) * 100:.2f}%)\")"
   ]
  },
  {
   "cell_type": "markdown",
   "metadata": {},
   "source": [
    "### Prediction Visualization"
   ]
  },
  {
   "cell_type": "code",
   "execution_count": 61,
   "metadata": {
    "scrolled": false
   },
   "outputs": [
    {
     "data": {
      "image/png": "[encoded data removed]",
      "text/plain": [
       "<Figure size 1500x1500 with 25 Axes>"
      ]
     },
     "metadata": {},
     "output_type": "display_data"
    }
   ],
   "source": [
    "# show gt and bbox\n",
    "\n",
    "test_iter = iter(test_dataloader)\n",
    "\n",
    "fig, axs = plt.subplots(nrows=5, ncols=5, figsize=(15, 15))\n",
    "\n",
    "for i in range(5):\n",
    "    for j in range(5):\n",
    "    \n",
    "        inputs, gt_bboxes, gt_class = next(test_iter)\n",
    "\n",
    "        inputs = inputs.to(device)\n",
    "        gt_bboxes = gt_bboxes.to(device)\n",
    "        gt_classes =   gt_classes.to(device)\n",
    "\n",
    "        model.eval()\n",
    "\n",
    "        with torch.no_grad():\n",
    "            bboxes, classes = model(inputs)\n",
    "\n",
    "            pred_class = torch.argmax(classes.view(-1))\n",
    "            gt_class = gt_class.item()\n",
    "\n",
    "            gt_x1, gt_y1, gt_x2, gt_y2 = gt_bboxes[0, 0].item(), gt_bboxes[0, 1].item(), gt_bboxes[0, 2].item(), gt_bboxes[0, 3].item()\n",
    "            gt_x1 = gt_x1*32\n",
    "            gt_y1 = gt_y1*32\n",
    "            gt_x2 = gt_x2*32\n",
    "            gt_y2 = gt_y2*32\n",
    "            gt_width = gt_x2 - gt_x1\n",
    "            gt_height = gt_y2 - gt_y1\n",
    "            gt_patch = patches.Rectangle((gt_x1, gt_y1), gt_width, gt_height, edgecolor='red', linewidth=1, fill=False)\n",
    "            \n",
    "            x1, y1, x2, y2 = bboxes[0, 0].item(), bboxes[0, 1].item(), bboxes[0, 2].item(), bboxes[0, 3].item()\n",
    "            x1 = x1*32\n",
    "            y1 = y1*32\n",
    "            x2 = x2*32\n",
    "            y2 = y2*32\n",
    "            width = x2 - x1\n",
    "            height = y2 - y1\n",
    "            bbox_patch = patches.Rectangle((x1, y1), width, height, edgecolor='blue', linewidth=2, fill=False)\n",
    "            \n",
    "            axs[i, j].add_patch(gt_patch)\n",
    "            axs[i, j].add_patch(bbox_patch)\n",
    "            numpy_img = inputs.detach().cpu().numpy()\n",
    "            img_reshaped = np.transpose(numpy_img, (2, 3, 1, 0))\n",
    "            reshaped_image_data = np.squeeze(img_reshaped, axis=3)\n",
    "            \n",
    "            axs[i, j].imshow(reshaped_image_data)\n",
    "            axs[i, j].set_xticks([])\n",
    "            axs[i, j].set_yticks([])\n",
    "                      \n",
    "plt.plot();\n",
    "# red -> ground_truth\n",
    "# blue -> predicted"
   ]
  }
 ],
 "metadata": {
  "kaggle": {
   "accelerator": "nvidiaTeslaT4",
   "dataSources": [],
   "dockerImageVersionId": 30673,
   "isGpuEnabled": true,
   "isInternetEnabled": true,
   "language": "python",
   "sourceType": "notebook"
  },
  "kernelspec": {
   "display_name": "Python 3 (ipykernel)",
   "language": "python",
   "name": "python3"
  },
  "language_info": {
   "codemirror_mode": {
    "name": "ipython",
    "version": 3
   },
   "file_extension": ".py",
   "mimetype": "text/x-python",
   "name": "python",
   "nbconvert_exporter": "python",
   "pygments_lexer": "ipython3",
   "version": "3.8.10"
  }
 },
 "nbformat": 4,
 "nbformat_minor": 4
}
